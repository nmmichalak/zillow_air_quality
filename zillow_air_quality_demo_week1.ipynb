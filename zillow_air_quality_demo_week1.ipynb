{
 "cells": [
  {
   "cell_type": "markdown",
   "metadata": {},
   "source": [
    "# Import packages"
   ]
  },
  {
   "cell_type": "code",
   "execution_count": 10,
   "metadata": {},
   "outputs": [],
   "source": [
    "# pip install code\n",
    "# !pip install numpy pandas geopandas osmnx rasterio pyzillow\n",
    "\n",
    "import numpy as np\n",
    "import pandas as pd\n",
    "import geopandas as geopd\n",
    "import osmnx\n",
    "import rasterio\n",
    "import pyzillow"
   ]
  },
  {
   "cell_type": "markdown",
   "metadata": {},
   "source": [
    "# Data sources"
   ]
  },
  {
   "cell_type": "markdown",
   "metadata": {},
   "source": [
    "## Address-level air pollution in Oakland, CA"
   ]
  },
  {
   "cell_type": "code",
   "execution_count": 4,
   "metadata": {},
   "outputs": [
    {
     "data": {
      "text/html": [
       "<div>\n",
       "<style scoped>\n",
       "    .dataframe tbody tr th:only-of-type {\n",
       "        vertical-align: middle;\n",
       "    }\n",
       "\n",
       "    .dataframe tbody tr th {\n",
       "        vertical-align: top;\n",
       "    }\n",
       "\n",
       "    .dataframe thead th {\n",
       "        text-align: right;\n",
       "    }\n",
       "</style>\n",
       "<table border=\"1\" class=\"dataframe\">\n",
       "  <thead>\n",
       "    <tr style=\"text-align: right;\">\n",
       "      <th></th>\n",
       "      <th>Data Terms of Use</th>\n",
       "      <th>https://www.edf.org/airqualitymaps/download-oakland-air-pollution-data</th>\n",
       "      <th>Unnamed: 2</th>\n",
       "      <th>Unnamed: 3</th>\n",
       "      <th>Unnamed: 4</th>\n",
       "    </tr>\n",
       "  </thead>\n",
       "  <tbody>\n",
       "    <tr>\n",
       "      <th>0</th>\n",
       "      <td>Longitude</td>\n",
       "      <td>Latitude</td>\n",
       "      <td>NO Value</td>\n",
       "      <td>NO2 Value</td>\n",
       "      <td>BC Value</td>\n",
       "    </tr>\n",
       "    <tr>\n",
       "      <th>1</th>\n",
       "      <td>-122.3225938</td>\n",
       "      <td>37.80678062</td>\n",
       "      <td>23.39007073</td>\n",
       "      <td>17.53976153</td>\n",
       "      <td>0.818032061</td>\n",
       "    </tr>\n",
       "    <tr>\n",
       "      <th>2</th>\n",
       "      <td>-122.32231</td>\n",
       "      <td>37.80614989</td>\n",
       "      <td>19.70000009</td>\n",
       "      <td>19.9567502</td>\n",
       "      <td>0.551475043</td>\n",
       "    </tr>\n",
       "    <tr>\n",
       "      <th>3</th>\n",
       "      <td>-122.3223008</td>\n",
       "      <td>37.80642014</td>\n",
       "      <td>23.61111146</td>\n",
       "      <td>23.96776835</td>\n",
       "      <td>0.59371167</td>\n",
       "    </tr>\n",
       "    <tr>\n",
       "      <th>4</th>\n",
       "      <td>-122.3222988</td>\n",
       "      <td>37.8058798</td>\n",
       "      <td>15.71428536</td>\n",
       "      <td>18.43518446</td>\n",
       "      <td>0.489897892</td>\n",
       "    </tr>\n",
       "    <tr>\n",
       "      <th>5</th>\n",
       "      <td>-122.3222671</td>\n",
       "      <td>37.80668898</td>\n",
       "      <td>27.10869487</td>\n",
       "      <td>25.79703741</td>\n",
       "      <td>0.739341404</td>\n",
       "    </tr>\n",
       "    <tr>\n",
       "      <th>6</th>\n",
       "      <td>-122.3222617</td>\n",
       "      <td>37.80671982</td>\n",
       "      <td>27.17647044</td>\n",
       "      <td>25.94654499</td>\n",
       "      <td>0.701457365</td>\n",
       "    </tr>\n",
       "    <tr>\n",
       "      <th>7</th>\n",
       "      <td>-122.3222506</td>\n",
       "      <td>37.8056125</td>\n",
       "      <td>13.34107138</td>\n",
       "      <td>16.02253853</td>\n",
       "      <td>0.377171024</td>\n",
       "    </tr>\n",
       "    <tr>\n",
       "      <th>8</th>\n",
       "      <td>-122.3222086</td>\n",
       "      <td>37.80547545</td>\n",
       "      <td>12.76923088</td>\n",
       "      <td>15.40100426</td>\n",
       "      <td>0.562942886</td>\n",
       "    </tr>\n",
       "    <tr>\n",
       "      <th>9</th>\n",
       "      <td>-122.3221959</td>\n",
       "      <td>37.80690666</td>\n",
       "      <td>28.26086914</td>\n",
       "      <td>25.13748268</td>\n",
       "      <td>0.538130011</td>\n",
       "    </tr>\n",
       "  </tbody>\n",
       "</table>\n",
       "</div>"
      ],
      "text/plain": [
       "  Data Terms of Use  \\\n",
       "0         Longitude   \n",
       "1      -122.3225938   \n",
       "2        -122.32231   \n",
       "3      -122.3223008   \n",
       "4      -122.3222988   \n",
       "5      -122.3222671   \n",
       "6      -122.3222617   \n",
       "7      -122.3222506   \n",
       "8      -122.3222086   \n",
       "9      -122.3221959   \n",
       "\n",
       "  https://www.edf.org/airqualitymaps/download-oakland-air-pollution-data   \\\n",
       "0                                           Latitude                        \n",
       "1                                        37.80678062                        \n",
       "2                                        37.80614989                        \n",
       "3                                        37.80642014                        \n",
       "4                                         37.8058798                        \n",
       "5                                        37.80668898                        \n",
       "6                                        37.80671982                        \n",
       "7                                         37.8056125                        \n",
       "8                                        37.80547545                        \n",
       "9                                        37.80690666                        \n",
       "\n",
       "    Unnamed: 2   Unnamed: 3   Unnamed: 4  \n",
       "0     NO Value    NO2 Value     BC Value  \n",
       "1  23.39007073  17.53976153  0.818032061  \n",
       "2  19.70000009   19.9567502  0.551475043  \n",
       "3  23.61111146  23.96776835   0.59371167  \n",
       "4  15.71428536  18.43518446  0.489897892  \n",
       "5  27.10869487  25.79703741  0.739341404  \n",
       "6  27.17647044  25.94654499  0.701457365  \n",
       "7  13.34107138  16.02253853  0.377171024  \n",
       "8  12.76923088  15.40100426  0.562942886  \n",
       "9  28.26086914  25.13748268  0.538130011  "
      ]
     },
     "execution_count": 4,
     "metadata": {},
     "output_type": "execute_result"
    }
   ],
   "source": [
    "oakland_airpollution_edf = pd.read_csv(\"data/Data_MedDriveMeans_EDF_Jan2018_ForDownload.csv\")\n",
    "\n",
    "# some rows\n",
    "oakland_airpollution_edf.head(n = 10)"
   ]
  },
  {
   "cell_type": "markdown",
   "metadata": {},
   "source": [
    "## Weather data"
   ]
  },
  {
   "cell_type": "code",
   "execution_count": null,
   "metadata": {},
   "outputs": [],
   "source": []
  },
  {
   "cell_type": "markdown",
   "metadata": {},
   "source": [
    "## Demographic data"
   ]
  },
  {
   "cell_type": "code",
   "execution_count": null,
   "metadata": {},
   "outputs": [],
   "source": []
  },
  {
   "cell_type": "markdown",
   "metadata": {},
   "source": [
    "## Example address lookup"
   ]
  },
  {
   "cell_type": "code",
   "execution_count": null,
   "metadata": {},
   "outputs": [],
   "source": [
    "# address = \"address\"\n",
    "# zipcode = \"zipcode\"\n",
    "\n",
    "# zillow_data = pyzillow.pyzillow.ZillowWrapper(YOUR_ZILLOW_API_KEY)\n",
    "# deep_search_response = zillow_data.get_deep_search_results(address, zipcode)\n",
    "# gdp_result = GetDeepSearchResults(deep_search_response)"
   ]
  }
 ],
 "metadata": {
  "kernelspec": {
   "display_name": "Python 3",
   "language": "python",
   "name": "python3"
  },
  "language_info": {
   "codemirror_mode": {
    "name": "ipython",
    "version": 3
   },
   "file_extension": ".py",
   "mimetype": "text/x-python",
   "name": "python",
   "nbconvert_exporter": "python",
   "pygments_lexer": "ipython3",
   "version": "3.7.6"
  },
  "toc": {
   "base_numbering": 1,
   "nav_menu": {},
   "number_sections": true,
   "sideBar": true,
   "skip_h1_title": false,
   "title_cell": "Table of Contents",
   "title_sidebar": "Contents",
   "toc_cell": false,
   "toc_position": {},
   "toc_section_display": true,
   "toc_window_display": false
  },
  "varInspector": {
   "cols": {
    "lenName": 16,
    "lenType": 16,
    "lenVar": 40
   },
   "kernels_config": {
    "python": {
     "delete_cmd_postfix": "",
     "delete_cmd_prefix": "del ",
     "library": "var_list.py",
     "varRefreshCmd": "print(var_dic_list())"
    },
    "r": {
     "delete_cmd_postfix": ") ",
     "delete_cmd_prefix": "rm(",
     "library": "var_list.r",
     "varRefreshCmd": "cat(var_dic_list()) "
    }
   },
   "types_to_exclude": [
    "module",
    "function",
    "builtin_function_or_method",
    "instance",
    "_Feature"
   ],
   "window_display": false
  }
 },
 "nbformat": 4,
 "nbformat_minor": 4
}
